{
 "cells": [
  {
   "cell_type": "markdown",
   "metadata": {},
   "source": [
    "# UVG - Minería de Datos\n",
    "# Proyecto 1 - Modelo Final\n",
    "### Luis Quezada 18028\n",
    "### Jennifer Sandoval 18962\n",
    "### Esteban del Valle 18221"
   ]
  },
  {
   "cell_type": "markdown",
   "metadata": {},
   "source": [
    "Basado en el anaálisis preliminar y creación de modelos de prueba, se decidió generar un modelo de modelos basado en el algoritmo de *Boosting*.Siendo estos K-NN k=13, SVM Linear y RNA"
   ]
  },
  {
   "cell_type": "markdown",
   "metadata": {},
   "source": [
    "## Modulos y Librerias"
   ]
  },
  {
   "cell_type": "code",
   "execution_count": 1,
   "metadata": {},
   "outputs": [
    {
     "name": "stderr",
     "output_type": "stream",
     "text": [
      "Using TensorFlow backend.\n"
     ]
    }
   ],
   "source": [
    "from statistics import mode\n",
    "import matplotlib.pyplot as plt\n",
    "import pandas as pd\n",
    "import numpy as np\n",
    "from sklearn.model_selection import train_test_split\n",
    "from sklearn.metrics import confusion_matrix,accuracy_score\n",
    "from sklearn.preprocessing import StandardScaler\n",
    "from sklearn.svm import SVC\n",
    "from sklearn.neighbors import KNeighborsClassifier\n",
    "from keras.models import load_model"
   ]
  },
  {
   "cell_type": "markdown",
   "metadata": {},
   "source": [
    "## Función para mostrar una Matriz de Confusión"
   ]
  },
  {
   "cell_type": "code",
   "execution_count": 2,
   "metadata": {},
   "outputs": [],
   "source": [
    "def plot_confusion_matrix(cm,target_names,title='Confusion matrix',cmap=None,normalize=False):\n",
    "    import itertools\n",
    "    accuracy = np.trace(cm) / float(np.sum(cm))\n",
    "    misclass = 1 - accuracy\n",
    "    if cmap is None:\n",
    "        cmap = plt.get_cmap('Blues')\n",
    "    plt.figure(figsize=(8, 6))\n",
    "    plt.imshow(cm, interpolation='nearest', cmap=cmap)\n",
    "    plt.title(title)\n",
    "    plt.colorbar()\n",
    "    if target_names is not None:\n",
    "        tick_marks = np.arange(len(target_names))\n",
    "        plt.xticks(tick_marks, target_names, rotation=45)\n",
    "        plt.yticks(tick_marks, target_names)\n",
    "    if normalize:\n",
    "        cm = cm.astype('float') / cm.sum(axis=1)[:, np.newaxis]\n",
    "    thresh = cm.max() / 1.5 if normalize else cm.max() / 2\n",
    "    for i, j in itertools.product(range(cm.shape[0]), range(cm.shape[1])):\n",
    "        if normalize:\n",
    "            plt.text(j, i, \"{:0.4f}\".format(cm[i, j]),\n",
    "                     horizontalalignment=\"center\",\n",
    "                     color=\"white\" if cm[i, j] > thresh else \"black\")\n",
    "        else:\n",
    "            plt.text(j, i, \"{:,}\".format(cm[i, j]),\n",
    "                     horizontalalignment=\"center\",\n",
    "                     color=\"white\" if cm[i, j] > thresh else \"black\")\n",
    "    plt.tight_layout()\n",
    "    plt.ylabel('True label')\n",
    "    plt.xlabel('Predicted label\\naccuracy={:0.4f}; misclass={:0.4f}'.format(accuracy, misclass))\n",
    "    plt.show()"
   ]
  },
  {
   "cell_type": "markdown",
   "metadata": {},
   "source": [
    "## Modelo final"
   ]
  },
  {
   "cell_type": "code",
   "execution_count": 3,
   "metadata": {},
   "outputs": [],
   "source": [
    "class DiabetesClassifier():\n",
    "    \n",
    "    def __init__(self,test_size=0.2):\n",
    "        dataset = pd.read_csv('diabetes.csv')\n",
    "        dataset.dropna(inplace=True)\n",
    "        dataset = dataset.drop(columns=['DiabetesPedigreeFunction'])\n",
    "        X = dataset.iloc[:, [0,1,2,3,4,5,6]].values\n",
    "        y = dataset.iloc[:, 7].values\n",
    "        X_train, self.X_test, y_train, self.y_test = train_test_split(X, y, test_size=test_size, random_state=0)\n",
    "\n",
    "        self.sc = StandardScaler()\n",
    "        X_train = self.sc.fit_transform(X_train)\n",
    "        \n",
    "        self.setupSVM(X_train, y_train)\n",
    "        self.setupKNN(X_train, y_train)\n",
    "        self.setupRNA(X_train, y_train)\n",
    "    \n",
    "    def getTestData(self):\n",
    "        return self.X_test,self.y_test\n",
    "    \n",
    "    def setupSVM(self,X_train, y_train):\n",
    "        self.LinearSVM_Classifier = SVC(kernel='linear', random_state=0)\n",
    "        self.LinearSVM_Classifier.fit(X_train, y_train)\n",
    "    \n",
    "    def setupKNN(self,X_train, y_train):\n",
    "        self.KNN_Classifier = KNeighborsClassifier(n_neighbors=13, metric='minkowski', p=2)\n",
    "        self.KNN_Classifier.fit(X_train, y_train)\n",
    "    \n",
    "    def setupRNA(self,X_train, y_train):\n",
    "        self.RNA_Classifier = load_model('model-7-14-28-28-14-1.h5')\n",
    "    \n",
    "    def predict(self,inputData):\n",
    "        inputData = [inputData]\n",
    "        inputData_scaled = self.sc.transform(inputData)\n",
    "\n",
    "        pred1 = self.LinearSVM_Classifier.predict(inputData_scaled)[0] > 0.5\n",
    "        pred2 = self.KNN_Classifier.predict(inputData_scaled)[0] > 0.5\n",
    "        pred3 = self.RNA_Classifier.predict(inputData_scaled)[0][0] > 0.5\n",
    "        \n",
    "        return mode([pred1,pred2,pred3])\n",
    "    \n",
    "    def getConfusionMatrix(self):\n",
    "        Y_pred = []\n",
    "        for x in self.X_test:\n",
    "            Y_pred.append(1) if classifier.predict(x) else Y_pred.append(0)\n",
    "        return confusion_matrix(self.y_test, Y_pred)\n",
    "    \n",
    "    def getAccuracy(self):\n",
    "        Y_pred = []\n",
    "        for x in self.X_test:\n",
    "            Y_pred.append(1) if classifier.predict(x) else Y_pred.append(0)\n",
    "        return accuracy_score(self.y_test, Y_pred)"
   ]
  },
  {
   "cell_type": "markdown",
   "metadata": {},
   "source": [
    "## Testing de DiabetesClassifier"
   ]
  },
  {
   "cell_type": "code",
   "execution_count": 4,
   "metadata": {},
   "outputs": [
    {
     "data": {
      "image/png": "[encoded data removed]",
      "text/plain": [
       "<Figure size 576x432 with 2 Axes>"
      ]
     },
     "metadata": {
      "needs_background": "light"
     },
     "output_type": "display_data"
    },
    {
     "name": "stdout",
     "output_type": "stream",
     "text": [
      "0.8376623376623377\n"
     ]
    }
   ],
   "source": [
    "classifier = DiabetesClassifier()\n",
    "cm = classifier.getConfusionMatrix()\n",
    "plot_confusion_matrix(cm,['Negativo','Positivo'])\n",
    "print(classifier.getAccuracy())"
   ]
  },
  {
   "cell_type": "code",
   "execution_count": 5,
   "metadata": {},
   "outputs": [
    {
     "data": {
      "image/png": "[encoded data removed]",
      "text/plain": [
       "<Figure size 576x432 with 2 Axes>"
      ]
     },
     "metadata": {
      "needs_background": "light"
     },
     "output_type": "display_data"
    },
    {
     "name": "stdout",
     "output_type": "stream",
     "text": [
      "0.8831168831168831\n"
     ]
    }
   ],
   "source": [
    "classifier2 = DiabetesClassifier(0.1)\n",
    "cm2 = classifier2.getConfusionMatrix()\n",
    "plot_confusion_matrix(cm2,['Negativo','Positivo'],cmap='Purples')\n",
    "print(classifier2.getAccuracy())"
   ]
  },
  {
   "cell_type": "code",
   "execution_count": 6,
   "metadata": {},
   "outputs": [
    {
     "data": {
      "image/png": "[encoded data removed]",
      "text/plain": [
       "<Figure size 576x432 with 2 Axes>"
      ]
     },
     "metadata": {
      "needs_background": "light"
     },
     "output_type": "display_data"
    },
    {
     "name": "stdout",
     "output_type": "stream",
     "text": [
      "0.9487179487179487\n"
     ]
    }
   ],
   "source": [
    "classifier3 = DiabetesClassifier(0.05)\n",
    "cm3 = classifier3.getConfusionMatrix()\n",
    "plot_confusion_matrix(cm3,['Negativo','Positivo'],cmap='Reds')\n",
    "print(classifier3.getAccuracy())"
   ]
  },
  {
   "cell_type": "markdown",
   "metadata": {},
   "source": [
    "## Uso del DiabetesClassifier"
   ]
  },
  {
   "cell_type": "code",
   "execution_count": 7,
   "metadata": {},
   "outputs": [
    {
     "data": {
      "text/plain": [
       "True"
      ]
     },
     "execution_count": 7,
     "metadata": {},
     "output_type": "execute_result"
    }
   ],
   "source": [
    "testInput = [1.0, 199.0, 76.0, 43.0, 0.0, 42.9, 22.0]\n",
    "classifier.predict(testInput)"
   ]
  }
 ],
 "metadata": {
  "kernelspec": {
   "display_name": "Python 3",
   "language": "python",
   "name": "python3"
  },
  "language_info": {
   "codemirror_mode": {
    "name": "ipython",
    "version": 3
   },
   "file_extension": ".py",
   "mimetype": "text/x-python",
   "name": "python",
   "nbconvert_exporter": "python",
   "pygments_lexer": "ipython3",
   "version": "3.8.1"
  }
 },
 "nbformat": 4,
 "nbformat_minor": 4
}
